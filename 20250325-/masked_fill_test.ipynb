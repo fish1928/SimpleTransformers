{
 "cells": [
  {
   "cell_type": "code",
   "execution_count": 1,
   "metadata": {},
   "outputs": [],
   "source": [
    "import torch\n"
   ]
  },
  {
   "cell_type": "code",
   "execution_count": 3,
   "metadata": {},
   "outputs": [],
   "source": [
    "\n",
    "a = torch.randint(1,10, size=(3,4,5))\n"
   ]
  },
  {
   "cell_type": "code",
   "execution_count": 5,
   "metadata": {},
   "outputs": [],
   "source": [
    "masks_a = (a % 2 == 0)"
   ]
  },
  {
   "cell_type": "code",
   "execution_count": 6,
   "metadata": {},
   "outputs": [
    {
     "data": {
      "text/plain": [
       "tensor([[[False, False, False,  True,  True],\n",
       "         [False, False, False, False,  True],\n",
       "         [False,  True, False, False, False],\n",
       "         [False, False, False,  True, False]],\n",
       "\n",
       "        [[ True,  True, False,  True,  True],\n",
       "         [False,  True,  True, False,  True],\n",
       "         [False, False, False,  True, False],\n",
       "         [False,  True, False, False, False]],\n",
       "\n",
       "        [[ True, False,  True, False,  True],\n",
       "         [False, False, False, False,  True],\n",
       "         [ True,  True, False, False, False],\n",
       "         [ True, False, False, False, False]]])"
      ]
     },
     "execution_count": 6,
     "metadata": {},
     "output_type": "execute_result"
    }
   ],
   "source": [
    "masks_a"
   ]
  },
  {
   "cell_type": "code",
   "execution_count": 7,
   "metadata": {},
   "outputs": [],
   "source": [
    "b = a.clone().detach()\n"
   ]
  },
  {
   "cell_type": "code",
   "execution_count": 9,
   "metadata": {},
   "outputs": [
    {
     "data": {
      "text/plain": [
       "tensor([[[-1000000000, -1000000000, -1000000000,           2,           8],\n",
       "         [-1000000000, -1000000000, -1000000000, -1000000000,           2],\n",
       "         [-1000000000,           8, -1000000000, -1000000000, -1000000000],\n",
       "         [-1000000000, -1000000000, -1000000000,           4, -1000000000]],\n",
       "\n",
       "        [[          4,           2, -1000000000,           8,           2],\n",
       "         [-1000000000,           2,           2, -1000000000,           2],\n",
       "         [-1000000000, -1000000000, -1000000000,           2, -1000000000],\n",
       "         [-1000000000,           8, -1000000000, -1000000000, -1000000000]],\n",
       "\n",
       "        [[          4, -1000000000,           8, -1000000000,           6],\n",
       "         [-1000000000, -1000000000, -1000000000, -1000000000,           4],\n",
       "         [          8,           4, -1000000000, -1000000000, -1000000000],\n",
       "         [          6, -1000000000, -1000000000, -1000000000, -1000000000]]])"
      ]
     },
     "execution_count": 9,
     "metadata": {},
     "output_type": "execute_result"
    }
   ],
   "source": [
    "b.masked_fill(masks_a == 0, -1e9)\n"
   ]
  },
  {
   "cell_type": "code",
   "execution_count": 13,
   "metadata": {},
   "outputs": [],
   "source": [
    "masks_b = masks_a[:,0,:]"
   ]
  },
  {
   "cell_type": "code",
   "execution_count": 18,
   "metadata": {},
   "outputs": [],
   "source": [
    "masks_b1 = masks_b.unsqueeze(-2)\n"
   ]
  },
  {
   "cell_type": "code",
   "execution_count": 21,
   "metadata": {},
   "outputs": [
    {
     "data": {
      "text/plain": [
       "tensor([[[False, False, False,  True,  True]],\n",
       "\n",
       "        [[ True,  True, False,  True,  True]],\n",
       "\n",
       "        [[ True, False,  True, False,  True]]])"
      ]
     },
     "execution_count": 21,
     "metadata": {},
     "output_type": "execute_result"
    }
   ],
   "source": [
    "masks_b1"
   ]
  },
  {
   "cell_type": "code",
   "execution_count": 20,
   "metadata": {},
   "outputs": [
    {
     "data": {
      "text/plain": [
       "tensor([[[          9,           3,           9, -1000000000, -1000000000],\n",
       "         [          3,           3,           3, -1000000000, -1000000000],\n",
       "         [          9,           8,           5, -1000000000, -1000000000],\n",
       "         [          1,           9,           1, -1000000000, -1000000000]],\n",
       "\n",
       "        [[-1000000000, -1000000000,           5, -1000000000, -1000000000],\n",
       "         [-1000000000, -1000000000,           2, -1000000000, -1000000000],\n",
       "         [-1000000000, -1000000000,           9, -1000000000, -1000000000],\n",
       "         [-1000000000, -1000000000,           9, -1000000000, -1000000000]],\n",
       "\n",
       "        [[-1000000000,           3, -1000000000,           5, -1000000000],\n",
       "         [-1000000000,           1, -1000000000,           9, -1000000000],\n",
       "         [-1000000000,           4, -1000000000,           7, -1000000000],\n",
       "         [-1000000000,           5, -1000000000,           7, -1000000000]]])"
      ]
     },
     "execution_count": 20,
     "metadata": {},
     "output_type": "execute_result"
    }
   ],
   "source": [
    "b.masked_fill(masks_b1, -1e9)"
   ]
  }
 ],
 "metadata": {
  "kernelspec": {
   "display_name": "base",
   "language": "python",
   "name": "python3"
  },
  "language_info": {
   "codemirror_mode": {
    "name": "ipython",
    "version": 3
   },
   "file_extension": ".py",
   "mimetype": "text/x-python",
   "name": "python",
   "nbconvert_exporter": "python",
   "pygments_lexer": "ipython3",
   "version": "3.11.5"
  }
 },
 "nbformat": 4,
 "nbformat_minor": 2
}
